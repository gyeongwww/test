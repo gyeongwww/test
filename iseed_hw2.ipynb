{
 "cells": [
  {
   "cell_type": "code",
   "execution_count": null,
   "metadata": {},
   "outputs": [],
   "source": [
    "#연습문제 1,2,3,4,11,13,15\n"
   ]
  },
  {
   "cell_type": "code",
   "execution_count": 2,
   "metadata": {},
   "outputs": [
    {
     "name": "stdout",
     "output_type": "stream",
     "text": [
      "100\n",
      "100\n",
      "100\n",
      "50+50\n"
     ]
    }
   ],
   "source": [
    "#01\n",
    "print(\"100\")\n",
    "print(100)\n",
    "print(50+50)\n",
    "print(\"50+50\")\n",
    "\n",
    "#정답 4번"
   ]
  },
  {
   "cell_type": "code",
   "execution_count": 4,
   "metadata": {},
   "outputs": [
    {
     "name": "stdout",
     "output_type": "stream",
     "text": [
      "5 / 10 = 0\n"
     ]
    }
   ],
   "source": [
    "#02\n",
    "print('%d / %d = %d' %(5,10,5/10))\n",
    "\n",
    "#정답 3번"
   ]
  },
  {
   "cell_type": "code",
   "execution_count": 6,
   "metadata": {},
   "outputs": [
    {
     "name": "stdout",
     "output_type": "stream",
     "text": [
      " 876\n",
      "CookBook\n",
      "123.5\n"
     ]
    }
   ],
   "source": [
    "#03\n",
    "# 876  , CookBook, 123.5\n",
    "\n",
    "print(\"%4d\" %876)\n",
    "print(\"%5s\" % \"CookBook\")\n",
    "print(\"%1.1f\" %123.45)"
   ]
  },
  {
   "cell_type": "code",
   "execution_count": 8,
   "metadata": {},
   "outputs": [
    {
     "name": "stdout",
     "output_type": "stream",
     "text": [
      "333111222\n"
     ]
    }
   ],
   "source": [
    "#04\n",
    "\n",
    "print(\"{2:d}{0:d}{1:d}\".format(111, 222, 333))\n",
    "\n",
    "#정갑 3번"
   ]
  },
  {
   "cell_type": "code",
   "execution_count": 11,
   "metadata": {},
   "outputs": [
    {
     "name": "stdout",
     "output_type": "stream",
     "text": [
      "11\n",
      "26\n"
     ]
    }
   ],
   "source": [
    "#11\n",
    "\n",
    "print(int(\"1011\", 2))\n",
    "\n",
    "print(int(\"1A\", 16))\n"
   ]
  },
  {
   "cell_type": "code",
   "execution_count": 23,
   "metadata": {},
   "outputs": [
    {
     "ename": "ValueError",
     "evalue": "invalid literal for int() with base 2: '1002'",
     "output_type": "error",
     "traceback": [
      "\u001b[0;31m---------------------------------------------------------------------------\u001b[0m",
      "\u001b[0;31mValueError\u001b[0m                                Traceback (most recent call last)",
      "Cell \u001b[0;32mIn[23], line 3\u001b[0m\n\u001b[1;32m      1\u001b[0m \u001b[38;5;66;03m#13\u001b[39;00m\n\u001b[0;32m----> 3\u001b[0m \u001b[38;5;28mprint\u001b[39m(\u001b[38;5;28;43mint\u001b[39;49m\u001b[43m(\u001b[49m\u001b[38;5;124;43m'\u001b[39;49m\u001b[38;5;124;43m1002\u001b[39;49m\u001b[38;5;124;43m'\u001b[39;49m\u001b[43m,\u001b[49m\u001b[43m \u001b[49m\u001b[38;5;241;43m2\u001b[39;49m\u001b[43m)\u001b[49m)\n\u001b[1;32m      4\u001b[0m \u001b[38;5;28mprint\u001b[39m(\u001b[38;5;28mint\u001b[39m (\u001b[38;5;124m'\u001b[39m\u001b[38;5;124m1008\u001b[39m\u001b[38;5;124m'\u001b[39m, \u001b[38;5;241m8\u001b[39m))\n\u001b[1;32m      5\u001b[0m \u001b[38;5;28mprint\u001b[39m(\u001b[38;5;28mint\u001b[39m(\u001b[38;5;124m'\u001b[39m\u001b[38;5;124mAAFG\u001b[39m\u001b[38;5;124m'\u001b[39m, \u001b[38;5;241m16\u001b[39m))\n",
      "\u001b[0;31mValueError\u001b[0m: invalid literal for int() with base 2: '1002'"
     ]
    }
   ],
   "source": [
    "#13\n",
    "\n",
    "print(int('1002', 2))\n",
    "print(int ('1008', 8))\n",
    "print(int('AAFG', 16))\n",
    "\n",
    "#모두 오류\n",
    "#1 이유: 2진수는 0과 1만 포함 하지만 2가 들어가있음\n",
    "#2 이유: 8진수는 0-7인데 8이 포함\n",
    "#3 이유: 16진수 0-9, A-F 인데 G 포함"
   ]
  },
  {
   "cell_type": "code",
   "execution_count": 25,
   "metadata": {},
   "outputs": [
    {
     "name": "stdout",
     "output_type": "stream",
     "text": [
      "10진수 => 12345678\n",
      "16진수 => 0xbc614e\n",
      "8진수 => 0o57060516\n",
      "2진수 => 0b101111000110000101001110\n"
     ]
    }
   ],
   "source": [
    "#15\n",
    "\n",
    "#10진수 ==> 12345678\n",
    "#16진수 => 0xbc614e\n",
    "#8진수 => 0057060516\n",
    "#2진수=> 010111100011000010100111\n",
    "\n",
    "num = 12345678\n",
    "\n",
    "hex_num = hex(num)  # 16진수로 변환\n",
    "oct_num = oct(num)  # 8진수로 변환\n",
    "bin_num = bin(num)  # 2진수로 변환\n",
    "\n",
    "print(\"10진수 =>\", num)\n",
    "print(\"16진수 =>\", hex_num)\n",
    "print(\"8진수 =>\", oct_num)\n",
    "print(\"2진수 =>\", bin_num)"
   ]
  },
  {
   "cell_type": "code",
   "execution_count": null,
   "metadata": {},
   "outputs": [],
   "source": []
  }
 ],
 "metadata": {
  "kernelspec": {
   "display_name": "Python 3",
   "language": "python",
   "name": "python3"
  },
  "language_info": {
   "codemirror_mode": {
    "name": "ipython",
    "version": 3
   },
   "file_extension": ".py",
   "mimetype": "text/x-python",
   "name": "python",
   "nbconvert_exporter": "python",
   "pygments_lexer": "ipython3",
   "version": "3.12.2"
  }
 },
 "nbformat": 4,
 "nbformat_minor": 2
}
