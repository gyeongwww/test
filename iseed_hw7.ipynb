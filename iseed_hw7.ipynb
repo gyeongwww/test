{
 "cells": [
  {
   "cell_type": "code",
   "execution_count": 5,
   "metadata": {},
   "outputs": [],
   "source": [
    "#iseed homework7\n",
    "#연습문제 \n"
   ]
  },
  {
   "cell_type": "code",
   "execution_count": 10,
   "metadata": {},
   "outputs": [],
   "source": [
    "#2 다음은 자동차를 클래스로 만든 코드입니다. 메소드에서 틀린 부분 2곳을 찾아서 맞게 고치세요.\n",
    "\n",
    "class Car:\n",
    "    color = \"\"  \n",
    "    speed = 0\n",
    "\n",
    "    def upSpeed(self, value):\n",
    "        self.speed += value\n",
    "\n"
   ]
  },
  {
   "cell_type": "code",
   "execution_count": 11,
   "metadata": {},
   "outputs": [],
   "source": [
    "#4 속도를 50으로 초기화하는 클래스의 생성자 코드입니다. 빈칸을 채우세요.\n",
    "\n",
    "class Horse:\n",
    "    speed = 0\n",
    "    \n",
    "    def __init__(self):\n",
    "        self.speed = 50\n"
   ]
  },
  {
   "cell_type": "code",
   "execution_count": 13,
   "metadata": {},
   "outputs": [
    {
     "name": "stdout",
     "output_type": "stream",
     "text": [
      "슈퍼 클래스\n",
      "서브 클래스\n"
     ]
    }
   ],
   "source": [
    "#6 다음은 클래스의 상속과 관련된 코드입니다. 코드의 실행 결과를 고르세요.\n",
    "\n",
    "class Car:\n",
    "    def method(self):\n",
    "        print(\"슈퍼 클래스\")\n",
    "\n",
    "class Sedan(Car):\n",
    "    def method(self):\n",
    "        print(\"서브 클래스\")\n",
    "\n",
    "myCar = Car()\n",
    "mySedan = Sedan()\n",
    "myCar.method()\n",
    "mySedan.method()\n",
    "\n",
    "#정답 : 3"
   ]
  },
  {
   "cell_type": "code",
   "execution_count": 14,
   "metadata": {},
   "outputs": [],
   "source": [
    "#7 Car의 상속을 받는 RVCar 클래스를 정의하는 코드입니다. 빈칸을 채우세요.\n",
    "\n",
    "class Car:\n",
    "    speed = 0\n",
    "    def upSpeed(self, value):\n",
    "        self.speed = self.speed + value\n",
    "\n",
    "class RVCar(Car):\n",
    "    seatNum = 0\n",
    "    def getSeatNum(self):\n",
    "        return self.seatNum\n",
    "\n"
   ]
  }
 ],
 "metadata": {
  "kernelspec": {
   "display_name": "Python 3",
   "language": "python",
   "name": "python3"
  },
  "language_info": {
   "codemirror_mode": {
    "name": "ipython",
    "version": 3
   },
   "file_extension": ".py",
   "mimetype": "text/x-python",
   "name": "python",
   "nbconvert_exporter": "python",
   "pygments_lexer": "ipython3",
   "version": "3.12.2"
  }
 },
 "nbformat": 4,
 "nbformat_minor": 2
}
