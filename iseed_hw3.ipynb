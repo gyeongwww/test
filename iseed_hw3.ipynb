{
 "cells": [
  {
   "cell_type": "code",
   "execution_count": 5,
   "metadata": {},
   "outputs": [],
   "source": [
    "#iseed homework3\n",
    "#연습문제 \n"
   ]
  },
  {
   "cell_type": "code",
   "execution_count": 6,
   "metadata": {},
   "outputs": [
    {
     "name": "stdout",
     "output_type": "stream",
     "text": [
      "장학생입니다. ^^\n"
     ]
    }
   ],
   "source": [
    "#04 다음은 장학생, 합격, 불합격으로 구분하는 중첩 if 문입니다. 이를 if ~ elif 문으로 변경하세요.\n",
    "\n",
    "score = int(input(\"점수를 입력하세요: \"))\n",
    "\n",
    "if score >= 90:\n",
    "    print(\"장학생\", end='')\n",
    "elif score >= 60:\n",
    "    print(\"합격\", end='')\n",
    "else:\n",
    "    print(\"불합격\", end='')\n",
    "\n",
    "print(\"입니다. ^^\")\n"
   ]
  },
  {
   "cell_type": "code",
   "execution_count": 7,
   "metadata": {},
   "outputs": [
    {
     "name": "stdout",
     "output_type": "stream",
     "text": [
      "홀수\n"
     ]
    }
   ],
   "source": [
    "# 05 다음 코드의 2~5행을 삼항 연산자로 변경한 것으로 옳은 것을 고르세요.\n",
    "num = 5\n",
    "res = '짝수' if num % 2 == 0 else '홀수'\n",
    "print(res)\n",
    "\n",
    "#정답3\n"
   ]
  },
  {
   "cell_type": "code",
   "execution_count": 10,
   "metadata": {},
   "outputs": [
    {
     "name": "stdout",
     "output_type": "stream",
     "text": [
      "[100, [444, 555]]\n"
     ]
    }
   ],
   "source": [
    "# 06 다음 각 코드를 실행한 후에, nn에 저장된 값을 쓰세요. 단, nn은 항상 보기의 5개 데이터가 저장되어 있다고 가정합니다.\n",
    "\n",
    "nn = [ 100, 200, 300, 400, 500]\n",
    "nn[1] = 777\n",
    "nn[1:4] = [444, 555]\n",
    "nn[1] = [444, 555]\n",
    "nn[2:] = []\n",
    "\n",
    "print(nn)"
   ]
  },
  {
   "cell_type": "code",
   "execution_count": 11,
   "metadata": {},
   "outputs": [
    {
     "name": "stdout",
     "output_type": "stream",
     "text": [
      "40722\n"
     ]
    }
   ],
   "source": [
    "#9 for 문을 사용해서 3333부터 9999까지의 숫자 중에서 1234의 배수의 합계를 구하되, 합계가 100000(십만)이 넘기 직전까지만 합계를 구하는 코드를 작성하세요. 단, 코드에는 continue와 break를 모두 사용해서 작성하세요.\n",
    "\n",
    "sum = 0  \n",
    "for num in range(3333, 10000):  \n",
    "    if num % 1234 != 0:  \n",
    "        continue\n",
    "    if sum + num > 100000: \n",
    "        break\n",
    "    sum += num  \n",
    "\n",
    "print(sum)  \n",
    "\n"
   ]
  },
  {
   "cell_type": "code",
   "execution_count": 12,
   "metadata": {},
   "outputs": [
    {
     "name": "stdout",
     "output_type": "stream",
     "text": [
      "23088\n"
     ]
    }
   ],
   "source": [
    "#8 다음은 for 문을 사용해서 1234부터 4567까지 444의 배수의 합계를 구하는 코드입니다. while 문으 로 변경해서 코드를 다시 작성하세요.\n",
    "\n",
    "hap = 0\n",
    "n = 1234  \n",
    "\n",
    "while n <= 4567: \n",
    "    if n % 444 == 0:  \n",
    "        hap += n  \n",
    "    n += 1  \n",
    "\n",
    "print(hap)  "
   ]
  },
  {
   "cell_type": "code",
   "execution_count": 15,
   "metadata": {},
   "outputs": [
    {
     "name": "stdout",
     "output_type": "stream",
     "text": [
      "[[2, 4], [3, 6]]\n"
     ]
    }
   ],
   "source": [
    "# 14 심화문제 다음 코드를 실행한 후 myData에 저장된 값이 무엇인지 쓰세요.\n",
    "\n",
    "myData = [[n * m for n in range(1, 3)]for m in range(2, 4)]\n",
    "\n",
    "print(myData)"
   ]
  },
  {
   "cell_type": "code",
   "execution_count": 16,
   "metadata": {},
   "outputs": [
    {
     "data": {
      "text/plain": [
       "{'nn[4]': 500,\n",
       " 'nn[-1]': 500,\n",
       " 'nn[-2]': 400,\n",
       " 'nn[1:4]': [200, 300, 400],\n",
       " 'nn[0:1]': [100],\n",
       " 'nn[2:-1]': [300, 400],\n",
       " 'nn[0::2]': [100, 300, 500],\n",
       " 'nn[::-1]': [500, 400, 300, 200, 100],\n",
       " 'nn[::-2]': [500, 300, 100]}"
      ]
     },
     "execution_count": 16,
     "metadata": {},
     "output_type": "execute_result"
    }
   ],
   "source": [
    "# 5 다음 각 코드가 출력하는 것을 쓰세요.\n",
    "\n",
    "nn = [100, 200, 300, 400, 500]\n",
    "\n",
    "\n",
    "results = {\n",
    "    \"nn[4]\": nn[4],\n",
    "    \"nn[-1]\": nn[-1],\n",
    "    \"nn[-2]\": nn[-2],\n",
    "    \"nn[1:4]\": nn[1:4],\n",
    "    \"nn[0:1]\": nn[0:1],\n",
    "    \"nn[2:-1]\": nn[2:-1],\n",
    "    \"nn[0::2]\": nn[0::2],\n",
    "    \"nn[::-1]\": nn[::-1],  \n",
    "    \"nn[::-2]\": nn[::-2]\n",
    "}\n",
    "\n",
    "results\n",
    "\n"
   ]
  },
  {
   "cell_type": "code",
   "execution_count": null,
   "metadata": {},
   "outputs": [],
   "source": []
  }
 ],
 "metadata": {
  "kernelspec": {
   "display_name": "Python 3",
   "language": "python",
   "name": "python3"
  },
  "language_info": {
   "codemirror_mode": {
    "name": "ipython",
    "version": 3
   },
   "file_extension": ".py",
   "mimetype": "text/x-python",
   "name": "python",
   "nbconvert_exporter": "python",
   "pygments_lexer": "ipython3",
   "version": "3.12.2"
  }
 },
 "nbformat": 4,
 "nbformat_minor": 2
}
