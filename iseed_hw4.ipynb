{
 "cells": [
  {
   "cell_type": "code",
   "execution_count": 5,
   "metadata": {},
   "outputs": [],
   "source": [
    "#iseed homework4\n",
    "#연습문제 \n"
   ]
  },
  {
   "cell_type": "code",
   "execution_count": 7,
   "metadata": {},
   "outputs": [
    {
     "name": "stdout",
     "output_type": "stream",
     "text": [
      "P$h$y$t$o$n$"
     ]
    }
   ],
   "source": [
    "#05 문자열의 중간마다 $를 끼워 넣는 코드입니다. 빈칸을 채우세요\n",
    "\n",
    "ss = 'Phyton'\n",
    "\n",
    "for i in range(0, 6):\n",
    "    print(ss[i] + '$', end = '')\n",
    "\n",
    " #정답 : for, 6, ss[i]   "
   ]
  },
  {
   "cell_type": "code",
   "execution_count": 23,
   "metadata": {},
   "outputs": [
    {
     "name": "stdout",
     "output_type": "stream",
     "text": [
      "파이썬CookBook열공중"
     ]
    }
   ],
   "source": [
    "# 11 입력된 문자열 중에서 한글과 영문자만 남기는 프로그램을 작성하세요\n",
    "\n",
    "ss = '파이썬 ### CookBook $$$ @@@ 열공중 1234'\n",
    "ss2 = \"\"\n",
    "\n",
    "for char in ss:\n",
    "    if ('a' <= char <= 'z') or ('A' <= char <= 'Z') or ('가' <= char <= '힣'):\n",
    "        ss2 += char\n",
    "\n",
    "print(ss2)\n"
   ]
  },
  {
   "cell_type": "code",
   "execution_count": 14,
   "metadata": {},
   "outputs": [
    {
     "name": "stdout",
     "output_type": "stream",
     "text": [
      "내용을 거꾸로 출력 --> nohtyP\n"
     ]
    }
   ],
   "source": [
    "# 09 문자열을 반대의 순서로 출력하는 코드입니다. 빈칸을 채우세요.\n",
    "\n",
    "inStr, outStr = \"Python\", \"\"\n",
    "strLen = len(inStr)\n",
    "for i in range(0, strLen) :\n",
    "    outStr += inStr[strLen - (i+1)]\n",
    "print(\"내용을 거꾸로 출력 --> %s\" % outStr)\n",
    "\n",
    "#정답 : inStr[strLen - (i+1)]"
   ]
  },
  {
   "cell_type": "code",
   "execution_count": 15,
   "metadata": {},
   "outputs": [],
   "source": [
    "#13 심화문제 [프로그램 1]를 변경해서 다음과 같이 글자가 나선형으로 안쪽으로 써지도록 코딩해 보세요\n",
    "\n",
    "import turtle\n",
    "\n",
    "\n",
    "\n"
   ]
  },
  {
   "cell_type": "code",
   "execution_count": 24,
   "metadata": {},
   "outputs": [
    {
     "name": "stdout",
     "output_type": "stream",
     "text": [
      "600\n"
     ]
    }
   ],
   "source": [
    "#03 다음 코드에서 빈칸을 채우세요.\n",
    "\n",
    "def plus(v1, v2, v3):\n",
    "    result = 0\n",
    "    result = v1 + v2 + v3\n",
    "    return result\n",
    "\n",
    "hap = plus(100, 200, 300)\n",
    "print(hap)\n",
    "\n",
    "#정답 : v1, v2, v3 / return result"
   ]
  },
  {
   "cell_type": "code",
   "execution_count": 18,
   "metadata": {},
   "outputs": [
    {
     "name": "stdout",
     "output_type": "stream",
     "text": [
      "100\n",
      "10\n"
     ]
    }
   ],
   "source": [
    "#04 다음에서 출력되는 값을 예상해 보세요.\n",
    "\n",
    "#정답 : 100, 10\n",
    "\n",
    "def f1():\n",
    "    print(var)\n",
    "\n",
    "def f2():\n",
    "    var = 10\n",
    "    print(var)\n",
    "\n",
    "var = 100\n",
    "\n",
    "f1() \n",
    "f2() \n"
   ]
  },
  {
   "cell_type": "code",
   "execution_count": 27,
   "metadata": {},
   "outputs": [
    {
     "name": "stdout",
     "output_type": "stream",
     "text": [
      "5050\n"
     ]
    }
   ],
   "source": [
    "#11 1부터 100까지의 합계(=5050)을 구하는 재귀 함수를 사용한 코드입니다. 재귀 함수의 빈칸을 완성하 세요\n",
    "\n",
    "def addNumber(num):\n",
    "    if num <= 1:\n",
    "        return 1\n",
    "    return num + addNumber(num - 1)\n",
    "\n",
    "print(addNumber(100))\n",
    "\n",
    "#정답 :  if num <= 1:\n",
    "        #return 1\n",
    "    #return num + addNumber(num - 1)"
   ]
  },
  {
   "cell_type": "code",
   "execution_count": 19,
   "metadata": {},
   "outputs": [
    {
     "name": "stdout",
     "output_type": "stream",
     "text": [
      "매개변수 없이 호출 => 6\n",
      "매개변수가 1개로 호출 => 6\n",
      "매개변수가 2개로 호출 => 6\n",
      "매개변수가 3개로 호출 => 6\n"
     ]
    }
   ],
   "source": [
    "#8 다음은 3개의 매개변수 중 기본값을 2개 설정하는 코드입니다. 빈칸을 채우세요.\n",
    "\n",
    "def myFunc(p1=1, p2=2, p3=3):\n",
    "    ret = p1 + p2 + p3\n",
    "    return ret\n",
    "\n",
    "print(\"매개변수 없이 호출 =>\", myFunc())\n",
    "print(\"매개변수가 1개로 호출 =>\", myFunc(1))\n",
    "print(\"매개변수가 2개로 호출 =>\", myFunc(1, 2))\n",
    "print(\"매개변수가 3개로 호출 =>\", myFunc(1, 2, 3))\n",
    "\n",
    "#정답 : p1=1, p2=2, p3=3\n"
   ]
  },
  {
   "cell_type": "code",
   "execution_count": null,
   "metadata": {},
   "outputs": [],
   "source": [
    "#2 [프로그램 1]의 완성 문자열을 입력받아 이를 반대로 출력하는 [프로그램 1]은 지금까지 배운 내용만으로도 간단하게 만들 수 있다."
   ]
  }
 ],
 "metadata": {
  "kernelspec": {
   "display_name": "Python 3",
   "language": "python",
   "name": "python3"
  },
  "language_info": {
   "codemirror_mode": {
    "name": "ipython",
    "version": 3
   },
   "file_extension": ".py",
   "mimetype": "text/x-python",
   "name": "python",
   "nbconvert_exporter": "python",
   "pygments_lexer": "ipython3",
   "version": "3.12.2"
  }
 },
 "nbformat": 4,
 "nbformat_minor": 2
}
